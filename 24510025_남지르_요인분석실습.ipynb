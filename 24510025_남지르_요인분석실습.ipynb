{
  "nbformat": 4,
  "nbformat_minor": 0,
  "metadata": {
    "colab": {
      "provenance": [],
      "authorship_tag": "ABX9TyOwmspuoR9c4nIsW6NUNzA3",
      "include_colab_link": true
    },
    "kernelspec": {
      "name": "python3",
      "display_name": "Python 3"
    },
    "language_info": {
      "name": "python"
    }
  },
  "cells": [
    {
      "cell_type": "markdown",
      "metadata": {
        "id": "view-in-github",
        "colab_type": "text"
      },
      "source": [
        "<a href=\"https://colab.research.google.com/github/namjir/UGG-team3.github.io/blob/main/24510025_%EB%82%A8%EC%A7%80%EB%A5%B4_%EC%9A%94%EC%9D%B8%EB%B6%84%EC%84%9D%EC%8B%A4%EC%8A%B5.ipynb\" target=\"_parent\"><img src=\"https://colab.research.google.com/assets/colab-badge.svg\" alt=\"Open In Colab\"/></a>"
      ]
    },
    {
      "cell_type": "code",
      "execution_count": null,
      "metadata": {
        "colab": {
          "base_uri": "https://localhost:8080/"
        },
        "id": "E2mPk1Fo97yN",
        "outputId": "fa6e8975-be19-419b-efaf-336b9634c867"
      },
      "outputs": [
        {
          "output_type": "stream",
          "name": "stdout",
          "text": [
            "Collecting factor_analyzer\n",
            "  Downloading factor_analyzer-0.5.1.tar.gz (42 kB)\n",
            "\u001b[?25l     \u001b[90m━━━━━━━━━━━━━━━━━━━━━━━━━━━━━━━━━━━━━━━━\u001b[0m \u001b[32m0.0/42.8 kB\u001b[0m \u001b[31m?\u001b[0m eta \u001b[36m-:--:--\u001b[0m\r\u001b[2K     \u001b[90m━━━━━━━━━━━━━━━━━━━━━━━━━━━━━━━━━━━━━━━━\u001b[0m \u001b[32m42.8/42.8 kB\u001b[0m \u001b[31m1.3 MB/s\u001b[0m eta \u001b[36m0:00:00\u001b[0m\n",
            "\u001b[?25h  Installing build dependencies ... \u001b[?25l\u001b[?25hdone\n",
            "  Getting requirements to build wheel ... \u001b[?25l\u001b[?25hdone\n",
            "  Preparing metadata (pyproject.toml) ... \u001b[?25l\u001b[?25hdone\n",
            "Requirement already satisfied: pandas in /usr/local/lib/python3.12/dist-packages (from factor_analyzer) (2.2.2)\n",
            "Requirement already satisfied: scipy in /usr/local/lib/python3.12/dist-packages (from factor_analyzer) (1.16.2)\n",
            "Requirement already satisfied: numpy in /usr/local/lib/python3.12/dist-packages (from factor_analyzer) (2.0.2)\n",
            "Requirement already satisfied: scikit-learn in /usr/local/lib/python3.12/dist-packages (from factor_analyzer) (1.6.1)\n",
            "Requirement already satisfied: python-dateutil>=2.8.2 in /usr/local/lib/python3.12/dist-packages (from pandas->factor_analyzer) (2.9.0.post0)\n",
            "Requirement already satisfied: pytz>=2020.1 in /usr/local/lib/python3.12/dist-packages (from pandas->factor_analyzer) (2025.2)\n",
            "Requirement already satisfied: tzdata>=2022.7 in /usr/local/lib/python3.12/dist-packages (from pandas->factor_analyzer) (2025.2)\n",
            "Requirement already satisfied: joblib>=1.2.0 in /usr/local/lib/python3.12/dist-packages (from scikit-learn->factor_analyzer) (1.5.2)\n",
            "Requirement already satisfied: threadpoolctl>=3.1.0 in /usr/local/lib/python3.12/dist-packages (from scikit-learn->factor_analyzer) (3.6.0)\n",
            "Requirement already satisfied: six>=1.5 in /usr/local/lib/python3.12/dist-packages (from python-dateutil>=2.8.2->pandas->factor_analyzer) (1.17.0)\n",
            "Building wheels for collected packages: factor_analyzer\n",
            "  Building wheel for factor_analyzer (pyproject.toml) ... \u001b[?25l\u001b[?25hdone\n",
            "  Created wheel for factor_analyzer: filename=factor_analyzer-0.5.1-py2.py3-none-any.whl size=42655 sha256=4a288bbb6692b81900c66af1e39714776d0218355399f5c0c8c5f6213347de6c\n",
            "  Stored in directory: /root/.cache/pip/wheels/a2/af/06/f4d4ed4d9d714fda437fb1583629417319603c2266e7b233cc\n",
            "Successfully built factor_analyzer\n",
            "Installing collected packages: factor_analyzer\n",
            "Successfully installed factor_analyzer-0.5.1\n",
            "라이브러리 로드 완료.\n"
          ]
        }
      ],
      "source": [
        "# 필요한 라이브러리 설치 (Colab 환경에서 factor_analyzer가 없는 경우 실행)\n",
        "# 경고: pip는 시스템 경로에 설치되므로, Colab 런타임이 재시작되면 다시 설치해야 할 수 있습니다.\n",
        "!pip install factor_analyzer # Colab에 이미 설치되어 있을 가능성 높음\n",
        "\n",
        "# 필요한 라이브러리 불러오기\n",
        "import pandas as pd\n",
        "import numpy as np\n",
        "from scipy import stats\n",
        "from factor_analyzer import FactorAnalyzer, calculate_kmo, calculate_bartlett_sphericity\n",
        "import statsmodels.api as sm\n",
        "import matplotlib.pyplot as plt\n",
        "import seaborn as sns\n",
        "\n",
        "print(\"라이브러리 로드 완료.\")"
      ]
    },
    {
      "cell_type": "code",
      "source": [
        "from google.colab import files\n",
        "uploaded = files.upload()   # 파일 선택창이 뜸"
      ],
      "metadata": {
        "colab": {
          "base_uri": "https://localhost:8080/",
          "height": 72
        },
        "id": "GemjnVnEDGYc",
        "outputId": "88c68879-1cb7-4a78-ed43-18ff8bb5ca96"
      },
      "execution_count": null,
      "outputs": [
        {
          "output_type": "display_data",
          "data": {
            "text/plain": [
              "<IPython.core.display.HTML object>"
            ],
            "text/html": [
              "\n",
              "     <input type=\"file\" id=\"files-fe4bd96a-92b4-4b0f-8cc1-f0022b7d9055\" name=\"files[]\" multiple disabled\n",
              "        style=\"border:none\" />\n",
              "     <output id=\"result-fe4bd96a-92b4-4b0f-8cc1-f0022b7d9055\">\n",
              "      Upload widget is only available when the cell has been executed in the\n",
              "      current browser session. Please rerun this cell to enable.\n",
              "      </output>\n",
              "      <script>// Copyright 2017 Google LLC\n",
              "//\n",
              "// Licensed under the Apache License, Version 2.0 (the \"License\");\n",
              "// you may not use this file except in compliance with the License.\n",
              "// You may obtain a copy of the License at\n",
              "//\n",
              "//      http://www.apache.org/licenses/LICENSE-2.0\n",
              "//\n",
              "// Unless required by applicable law or agreed to in writing, software\n",
              "// distributed under the License is distributed on an \"AS IS\" BASIS,\n",
              "// WITHOUT WARRANTIES OR CONDITIONS OF ANY KIND, either express or implied.\n",
              "// See the License for the specific language governing permissions and\n",
              "// limitations under the License.\n",
              "\n",
              "/**\n",
              " * @fileoverview Helpers for google.colab Python module.\n",
              " */\n",
              "(function(scope) {\n",
              "function span(text, styleAttributes = {}) {\n",
              "  const element = document.createElement('span');\n",
              "  element.textContent = text;\n",
              "  for (const key of Object.keys(styleAttributes)) {\n",
              "    element.style[key] = styleAttributes[key];\n",
              "  }\n",
              "  return element;\n",
              "}\n",
              "\n",
              "// Max number of bytes which will be uploaded at a time.\n",
              "const MAX_PAYLOAD_SIZE = 100 * 1024;\n",
              "\n",
              "function _uploadFiles(inputId, outputId) {\n",
              "  const steps = uploadFilesStep(inputId, outputId);\n",
              "  const outputElement = document.getElementById(outputId);\n",
              "  // Cache steps on the outputElement to make it available for the next call\n",
              "  // to uploadFilesContinue from Python.\n",
              "  outputElement.steps = steps;\n",
              "\n",
              "  return _uploadFilesContinue(outputId);\n",
              "}\n",
              "\n",
              "// This is roughly an async generator (not supported in the browser yet),\n",
              "// where there are multiple asynchronous steps and the Python side is going\n",
              "// to poll for completion of each step.\n",
              "// This uses a Promise to block the python side on completion of each step,\n",
              "// then passes the result of the previous step as the input to the next step.\n",
              "function _uploadFilesContinue(outputId) {\n",
              "  const outputElement = document.getElementById(outputId);\n",
              "  const steps = outputElement.steps;\n",
              "\n",
              "  const next = steps.next(outputElement.lastPromiseValue);\n",
              "  return Promise.resolve(next.value.promise).then((value) => {\n",
              "    // Cache the last promise value to make it available to the next\n",
              "    // step of the generator.\n",
              "    outputElement.lastPromiseValue = value;\n",
              "    return next.value.response;\n",
              "  });\n",
              "}\n",
              "\n",
              "/**\n",
              " * Generator function which is called between each async step of the upload\n",
              " * process.\n",
              " * @param {string} inputId Element ID of the input file picker element.\n",
              " * @param {string} outputId Element ID of the output display.\n",
              " * @return {!Iterable<!Object>} Iterable of next steps.\n",
              " */\n",
              "function* uploadFilesStep(inputId, outputId) {\n",
              "  const inputElement = document.getElementById(inputId);\n",
              "  inputElement.disabled = false;\n",
              "\n",
              "  const outputElement = document.getElementById(outputId);\n",
              "  outputElement.innerHTML = '';\n",
              "\n",
              "  const pickedPromise = new Promise((resolve) => {\n",
              "    inputElement.addEventListener('change', (e) => {\n",
              "      resolve(e.target.files);\n",
              "    });\n",
              "  });\n",
              "\n",
              "  const cancel = document.createElement('button');\n",
              "  inputElement.parentElement.appendChild(cancel);\n",
              "  cancel.textContent = 'Cancel upload';\n",
              "  const cancelPromise = new Promise((resolve) => {\n",
              "    cancel.onclick = () => {\n",
              "      resolve(null);\n",
              "    };\n",
              "  });\n",
              "\n",
              "  // Wait for the user to pick the files.\n",
              "  const files = yield {\n",
              "    promise: Promise.race([pickedPromise, cancelPromise]),\n",
              "    response: {\n",
              "      action: 'starting',\n",
              "    }\n",
              "  };\n",
              "\n",
              "  cancel.remove();\n",
              "\n",
              "  // Disable the input element since further picks are not allowed.\n",
              "  inputElement.disabled = true;\n",
              "\n",
              "  if (!files) {\n",
              "    return {\n",
              "      response: {\n",
              "        action: 'complete',\n",
              "      }\n",
              "    };\n",
              "  }\n",
              "\n",
              "  for (const file of files) {\n",
              "    const li = document.createElement('li');\n",
              "    li.append(span(file.name, {fontWeight: 'bold'}));\n",
              "    li.append(span(\n",
              "        `(${file.type || 'n/a'}) - ${file.size} bytes, ` +\n",
              "        `last modified: ${\n",
              "            file.lastModifiedDate ? file.lastModifiedDate.toLocaleDateString() :\n",
              "                                    'n/a'} - `));\n",
              "    const percent = span('0% done');\n",
              "    li.appendChild(percent);\n",
              "\n",
              "    outputElement.appendChild(li);\n",
              "\n",
              "    const fileDataPromise = new Promise((resolve) => {\n",
              "      const reader = new FileReader();\n",
              "      reader.onload = (e) => {\n",
              "        resolve(e.target.result);\n",
              "      };\n",
              "      reader.readAsArrayBuffer(file);\n",
              "    });\n",
              "    // Wait for the data to be ready.\n",
              "    let fileData = yield {\n",
              "      promise: fileDataPromise,\n",
              "      response: {\n",
              "        action: 'continue',\n",
              "      }\n",
              "    };\n",
              "\n",
              "    // Use a chunked sending to avoid message size limits. See b/62115660.\n",
              "    let position = 0;\n",
              "    do {\n",
              "      const length = Math.min(fileData.byteLength - position, MAX_PAYLOAD_SIZE);\n",
              "      const chunk = new Uint8Array(fileData, position, length);\n",
              "      position += length;\n",
              "\n",
              "      const base64 = btoa(String.fromCharCode.apply(null, chunk));\n",
              "      yield {\n",
              "        response: {\n",
              "          action: 'append',\n",
              "          file: file.name,\n",
              "          data: base64,\n",
              "        },\n",
              "      };\n",
              "\n",
              "      let percentDone = fileData.byteLength === 0 ?\n",
              "          100 :\n",
              "          Math.round((position / fileData.byteLength) * 100);\n",
              "      percent.textContent = `${percentDone}% done`;\n",
              "\n",
              "    } while (position < fileData.byteLength);\n",
              "  }\n",
              "\n",
              "  // All done.\n",
              "  yield {\n",
              "    response: {\n",
              "      action: 'complete',\n",
              "    }\n",
              "  };\n",
              "}\n",
              "\n",
              "scope.google = scope.google || {};\n",
              "scope.google.colab = scope.google.colab || {};\n",
              "scope.google.colab._files = {\n",
              "  _uploadFiles,\n",
              "  _uploadFilesContinue,\n",
              "};\n",
              "})(self);\n",
              "</script> "
            ]
          },
          "metadata": {}
        },
        {
          "output_type": "stream",
          "name": "stdout",
          "text": [
            "Saving test_data.xlsx to test_data.xlsx\n"
          ]
        }
      ]
    },
    {
      "cell_type": "code",
      "source": [
        "# Load the data from the uploaded Excel file\n",
        "df = pd.read_excel('test_data.xlsx')\n",
        "# Display the first few rows to confirm it's loaded correctly\n",
        "display(df.head())"
      ],
      "metadata": {
        "colab": {
          "base_uri": "https://localhost:8080/",
          "height": 244
        },
        "id": "XaUalhiCDS4o",
        "outputId": "f6a0279b-45e8-4594-f792-212adc618523"
      },
      "execution_count": null,
      "outputs": [
        {
          "output_type": "display_data",
          "data": {
            "text/plain": [
              "   age  country  status  use  sat                                      image  \\\n",
              "0    1        2       1    3    4  편리한 생활 파트너 (Амьдралд хэрэтэй тохиромжтой)   \n",
              "1    1        2       1    3    4              특별한 이미지 없음(Тодорхой бодолгүй)   \n",
              "2    1        2       1    3    3  편리한 생활 파트너 (Амьдралд хэрэтэй тохиромжтой)   \n",
              "3    2        2       2    3    5              특별한 이미지 없음(Тодорхой бодолгүй)   \n",
              "4    2        2       1    3    4  편리한 생활 파트너 (Амьдралд хэрэтэй тохиромжтой)   \n",
              "\n",
              "   recom  \n",
              "0      4  \n",
              "1      4  \n",
              "2      3  \n",
              "3      2  \n",
              "4      4  "
            ],
            "text/html": [
              "\n",
              "  <div id=\"df-9c571679-49e1-4d56-a5d0-144066f7e71c\" class=\"colab-df-container\">\n",
              "    <div>\n",
              "<style scoped>\n",
              "    .dataframe tbody tr th:only-of-type {\n",
              "        vertical-align: middle;\n",
              "    }\n",
              "\n",
              "    .dataframe tbody tr th {\n",
              "        vertical-align: top;\n",
              "    }\n",
              "\n",
              "    .dataframe thead th {\n",
              "        text-align: right;\n",
              "    }\n",
              "</style>\n",
              "<table border=\"1\" class=\"dataframe\">\n",
              "  <thead>\n",
              "    <tr style=\"text-align: right;\">\n",
              "      <th></th>\n",
              "      <th>age</th>\n",
              "      <th>country</th>\n",
              "      <th>status</th>\n",
              "      <th>use</th>\n",
              "      <th>sat</th>\n",
              "      <th>image</th>\n",
              "      <th>recom</th>\n",
              "    </tr>\n",
              "  </thead>\n",
              "  <tbody>\n",
              "    <tr>\n",
              "      <th>0</th>\n",
              "      <td>1</td>\n",
              "      <td>2</td>\n",
              "      <td>1</td>\n",
              "      <td>3</td>\n",
              "      <td>4</td>\n",
              "      <td>편리한 생활 파트너 (Амьдралд хэрэтэй тохиромжтой)</td>\n",
              "      <td>4</td>\n",
              "    </tr>\n",
              "    <tr>\n",
              "      <th>1</th>\n",
              "      <td>1</td>\n",
              "      <td>2</td>\n",
              "      <td>1</td>\n",
              "      <td>3</td>\n",
              "      <td>4</td>\n",
              "      <td>특별한 이미지 없음(Тодорхой бодолгүй)</td>\n",
              "      <td>4</td>\n",
              "    </tr>\n",
              "    <tr>\n",
              "      <th>2</th>\n",
              "      <td>1</td>\n",
              "      <td>2</td>\n",
              "      <td>1</td>\n",
              "      <td>3</td>\n",
              "      <td>3</td>\n",
              "      <td>편리한 생활 파트너 (Амьдралд хэрэтэй тохиромжтой)</td>\n",
              "      <td>3</td>\n",
              "    </tr>\n",
              "    <tr>\n",
              "      <th>3</th>\n",
              "      <td>2</td>\n",
              "      <td>2</td>\n",
              "      <td>2</td>\n",
              "      <td>3</td>\n",
              "      <td>5</td>\n",
              "      <td>특별한 이미지 없음(Тодорхой бодолгүй)</td>\n",
              "      <td>2</td>\n",
              "    </tr>\n",
              "    <tr>\n",
              "      <th>4</th>\n",
              "      <td>2</td>\n",
              "      <td>2</td>\n",
              "      <td>1</td>\n",
              "      <td>3</td>\n",
              "      <td>4</td>\n",
              "      <td>편리한 생활 파트너 (Амьдралд хэрэтэй тохиромжтой)</td>\n",
              "      <td>4</td>\n",
              "    </tr>\n",
              "  </tbody>\n",
              "</table>\n",
              "</div>\n",
              "    <div class=\"colab-df-buttons\">\n",
              "\n",
              "  <div class=\"colab-df-container\">\n",
              "    <button class=\"colab-df-convert\" onclick=\"convertToInteractive('df-9c571679-49e1-4d56-a5d0-144066f7e71c')\"\n",
              "            title=\"Convert this dataframe to an interactive table.\"\n",
              "            style=\"display:none;\">\n",
              "\n",
              "  <svg xmlns=\"http://www.w3.org/2000/svg\" height=\"24px\" viewBox=\"0 -960 960 960\">\n",
              "    <path d=\"M120-120v-720h720v720H120Zm60-500h600v-160H180v160Zm220 220h160v-160H400v160Zm0 220h160v-160H400v160ZM180-400h160v-160H180v160Zm440 0h160v-160H620v160ZM180-180h160v-160H180v160Zm440 0h160v-160H620v160Z\"/>\n",
              "  </svg>\n",
              "    </button>\n",
              "\n",
              "  <style>\n",
              "    .colab-df-container {\n",
              "      display:flex;\n",
              "      gap: 12px;\n",
              "    }\n",
              "\n",
              "    .colab-df-convert {\n",
              "      background-color: #E8F0FE;\n",
              "      border: none;\n",
              "      border-radius: 50%;\n",
              "      cursor: pointer;\n",
              "      display: none;\n",
              "      fill: #1967D2;\n",
              "      height: 32px;\n",
              "      padding: 0 0 0 0;\n",
              "      width: 32px;\n",
              "    }\n",
              "\n",
              "    .colab-df-convert:hover {\n",
              "      background-color: #E2EBFA;\n",
              "      box-shadow: 0px 1px 2px rgba(60, 64, 67, 0.3), 0px 1px 3px 1px rgba(60, 64, 67, 0.15);\n",
              "      fill: #174EA6;\n",
              "    }\n",
              "\n",
              "    .colab-df-buttons div {\n",
              "      margin-bottom: 4px;\n",
              "    }\n",
              "\n",
              "    [theme=dark] .colab-df-convert {\n",
              "      background-color: #3B4455;\n",
              "      fill: #D2E3FC;\n",
              "    }\n",
              "\n",
              "    [theme=dark] .colab-df-convert:hover {\n",
              "      background-color: #434B5C;\n",
              "      box-shadow: 0px 1px 3px 1px rgba(0, 0, 0, 0.15);\n",
              "      filter: drop-shadow(0px 1px 2px rgba(0, 0, 0, 0.3));\n",
              "      fill: #FFFFFF;\n",
              "    }\n",
              "  </style>\n",
              "\n",
              "    <script>\n",
              "      const buttonEl =\n",
              "        document.querySelector('#df-9c571679-49e1-4d56-a5d0-144066f7e71c button.colab-df-convert');\n",
              "      buttonEl.style.display =\n",
              "        google.colab.kernel.accessAllowed ? 'block' : 'none';\n",
              "\n",
              "      async function convertToInteractive(key) {\n",
              "        const element = document.querySelector('#df-9c571679-49e1-4d56-a5d0-144066f7e71c');\n",
              "        const dataTable =\n",
              "          await google.colab.kernel.invokeFunction('convertToInteractive',\n",
              "                                                    [key], {});\n",
              "        if (!dataTable) return;\n",
              "\n",
              "        const docLinkHtml = 'Like what you see? Visit the ' +\n",
              "          '<a target=\"_blank\" href=https://colab.research.google.com/notebooks/data_table.ipynb>data table notebook</a>'\n",
              "          + ' to learn more about interactive tables.';\n",
              "        element.innerHTML = '';\n",
              "        dataTable['output_type'] = 'display_data';\n",
              "        await google.colab.output.renderOutput(dataTable, element);\n",
              "        const docLink = document.createElement('div');\n",
              "        docLink.innerHTML = docLinkHtml;\n",
              "        element.appendChild(docLink);\n",
              "      }\n",
              "    </script>\n",
              "  </div>\n",
              "\n",
              "\n",
              "    <div id=\"df-f5152491-fa76-440c-a13b-b1b9310af767\">\n",
              "      <button class=\"colab-df-quickchart\" onclick=\"quickchart('df-f5152491-fa76-440c-a13b-b1b9310af767')\"\n",
              "                title=\"Suggest charts\"\n",
              "                style=\"display:none;\">\n",
              "\n",
              "<svg xmlns=\"http://www.w3.org/2000/svg\" height=\"24px\"viewBox=\"0 0 24 24\"\n",
              "     width=\"24px\">\n",
              "    <g>\n",
              "        <path d=\"M19 3H5c-1.1 0-2 .9-2 2v14c0 1.1.9 2 2 2h14c1.1 0 2-.9 2-2V5c0-1.1-.9-2-2-2zM9 17H7v-7h2v7zm4 0h-2V7h2v10zm4 0h-2v-4h2v4z\"/>\n",
              "    </g>\n",
              "</svg>\n",
              "      </button>\n",
              "\n",
              "<style>\n",
              "  .colab-df-quickchart {\n",
              "      --bg-color: #E8F0FE;\n",
              "      --fill-color: #1967D2;\n",
              "      --hover-bg-color: #E2EBFA;\n",
              "      --hover-fill-color: #174EA6;\n",
              "      --disabled-fill-color: #AAA;\n",
              "      --disabled-bg-color: #DDD;\n",
              "  }\n",
              "\n",
              "  [theme=dark] .colab-df-quickchart {\n",
              "      --bg-color: #3B4455;\n",
              "      --fill-color: #D2E3FC;\n",
              "      --hover-bg-color: #434B5C;\n",
              "      --hover-fill-color: #FFFFFF;\n",
              "      --disabled-bg-color: #3B4455;\n",
              "      --disabled-fill-color: #666;\n",
              "  }\n",
              "\n",
              "  .colab-df-quickchart {\n",
              "    background-color: var(--bg-color);\n",
              "    border: none;\n",
              "    border-radius: 50%;\n",
              "    cursor: pointer;\n",
              "    display: none;\n",
              "    fill: var(--fill-color);\n",
              "    height: 32px;\n",
              "    padding: 0;\n",
              "    width: 32px;\n",
              "  }\n",
              "\n",
              "  .colab-df-quickchart:hover {\n",
              "    background-color: var(--hover-bg-color);\n",
              "    box-shadow: 0 1px 2px rgba(60, 64, 67, 0.3), 0 1px 3px 1px rgba(60, 64, 67, 0.15);\n",
              "    fill: var(--button-hover-fill-color);\n",
              "  }\n",
              "\n",
              "  .colab-df-quickchart-complete:disabled,\n",
              "  .colab-df-quickchart-complete:disabled:hover {\n",
              "    background-color: var(--disabled-bg-color);\n",
              "    fill: var(--disabled-fill-color);\n",
              "    box-shadow: none;\n",
              "  }\n",
              "\n",
              "  .colab-df-spinner {\n",
              "    border: 2px solid var(--fill-color);\n",
              "    border-color: transparent;\n",
              "    border-bottom-color: var(--fill-color);\n",
              "    animation:\n",
              "      spin 1s steps(1) infinite;\n",
              "  }\n",
              "\n",
              "  @keyframes spin {\n",
              "    0% {\n",
              "      border-color: transparent;\n",
              "      border-bottom-color: var(--fill-color);\n",
              "      border-left-color: var(--fill-color);\n",
              "    }\n",
              "    20% {\n",
              "      border-color: transparent;\n",
              "      border-left-color: var(--fill-color);\n",
              "      border-top-color: var(--fill-color);\n",
              "    }\n",
              "    30% {\n",
              "      border-color: transparent;\n",
              "      border-left-color: var(--fill-color);\n",
              "      border-top-color: var(--fill-color);\n",
              "      border-right-color: var(--fill-color);\n",
              "    }\n",
              "    40% {\n",
              "      border-color: transparent;\n",
              "      border-right-color: var(--fill-color);\n",
              "      border-top-color: var(--fill-color);\n",
              "    }\n",
              "    60% {\n",
              "      border-color: transparent;\n",
              "      border-right-color: var(--fill-color);\n",
              "    }\n",
              "    80% {\n",
              "      border-color: transparent;\n",
              "      border-right-color: var(--fill-color);\n",
              "      border-bottom-color: var(--fill-color);\n",
              "    }\n",
              "    90% {\n",
              "      border-color: transparent;\n",
              "      border-bottom-color: var(--fill-color);\n",
              "    }\n",
              "  }\n",
              "</style>\n",
              "\n",
              "      <script>\n",
              "        async function quickchart(key) {\n",
              "          const quickchartButtonEl =\n",
              "            document.querySelector('#' + key + ' button');\n",
              "          quickchartButtonEl.disabled = true;  // To prevent multiple clicks.\n",
              "          quickchartButtonEl.classList.add('colab-df-spinner');\n",
              "          try {\n",
              "            const charts = await google.colab.kernel.invokeFunction(\n",
              "                'suggestCharts', [key], {});\n",
              "          } catch (error) {\n",
              "            console.error('Error during call to suggestCharts:', error);\n",
              "          }\n",
              "          quickchartButtonEl.classList.remove('colab-df-spinner');\n",
              "          quickchartButtonEl.classList.add('colab-df-quickchart-complete');\n",
              "        }\n",
              "        (() => {\n",
              "          let quickchartButtonEl =\n",
              "            document.querySelector('#df-f5152491-fa76-440c-a13b-b1b9310af767 button');\n",
              "          quickchartButtonEl.style.display =\n",
              "            google.colab.kernel.accessAllowed ? 'block' : 'none';\n",
              "        })();\n",
              "      </script>\n",
              "    </div>\n",
              "\n",
              "    </div>\n",
              "  </div>\n"
            ],
            "application/vnd.google.colaboratory.intrinsic+json": {
              "type": "dataframe",
              "summary": "{\n  \"name\": \"display(df\",\n  \"rows\": 5,\n  \"fields\": [\n    {\n      \"column\": \"age\",\n      \"properties\": {\n        \"dtype\": \"number\",\n        \"std\": 0,\n        \"min\": 1,\n        \"max\": 2,\n        \"num_unique_values\": 2,\n        \"samples\": [\n          2,\n          1\n        ],\n        \"semantic_type\": \"\",\n        \"description\": \"\"\n      }\n    },\n    {\n      \"column\": \"country\",\n      \"properties\": {\n        \"dtype\": \"number\",\n        \"std\": 0,\n        \"min\": 2,\n        \"max\": 2,\n        \"num_unique_values\": 1,\n        \"samples\": [\n          2\n        ],\n        \"semantic_type\": \"\",\n        \"description\": \"\"\n      }\n    },\n    {\n      \"column\": \"status\",\n      \"properties\": {\n        \"dtype\": \"number\",\n        \"std\": 0,\n        \"min\": 1,\n        \"max\": 2,\n        \"num_unique_values\": 2,\n        \"samples\": [\n          2\n        ],\n        \"semantic_type\": \"\",\n        \"description\": \"\"\n      }\n    },\n    {\n      \"column\": \"use\",\n      \"properties\": {\n        \"dtype\": \"number\",\n        \"std\": 0,\n        \"min\": 3,\n        \"max\": 3,\n        \"num_unique_values\": 1,\n        \"samples\": [\n          3\n        ],\n        \"semantic_type\": \"\",\n        \"description\": \"\"\n      }\n    },\n    {\n      \"column\": \"sat\",\n      \"properties\": {\n        \"dtype\": \"number\",\n        \"std\": 0,\n        \"min\": 3,\n        \"max\": 5,\n        \"num_unique_values\": 3,\n        \"samples\": [\n          4\n        ],\n        \"semantic_type\": \"\",\n        \"description\": \"\"\n      }\n    },\n    {\n      \"column\": \"image\",\n      \"properties\": {\n        \"dtype\": \"category\",\n        \"num_unique_values\": 2,\n        \"samples\": [\n          \"\\ud2b9\\ubcc4\\ud55c \\uc774\\ubbf8\\uc9c0 \\uc5c6\\uc74c(\\u0422\\u043e\\u0434\\u043e\\u0440\\u0445\\u043e\\u0439 \\u0431\\u043e\\u0434\\u043e\\u043b\\u0433\\u04af\\u0439)\"\n        ],\n        \"semantic_type\": \"\",\n        \"description\": \"\"\n      }\n    },\n    {\n      \"column\": \"recom\",\n      \"properties\": {\n        \"dtype\": \"number\",\n        \"std\": 0,\n        \"min\": 2,\n        \"max\": 4,\n        \"num_unique_values\": 3,\n        \"samples\": [\n          4\n        ],\n        \"semantic_type\": \"\",\n        \"description\": \"\"\n      }\n    }\n  ]\n}"
            }
          },
          "metadata": {}
        }
      ]
    },
    {
      "cell_type": "code",
      "source": [
        "# 기초 통계량\n",
        "print(\"\\n📊 설문조사 데이터 기초 통계량\")\n",
        "print(df.describe())\n",
        "\n",
        "# 각 항목별 빈도 분석\n",
        "print(\"\\n📌 항목별 빈도 분석\")\n",
        "for col in df.columns:\n",
        "    print(f\"\\n[{col}]\")\n",
        "    print(df[col].value_counts().sort_index())\n",
        "\n",
        "# 결측치 확인\n",
        "print(\"\\n❗ 결측치 현황\")\n",
        "print(df.isnull().sum())"
      ],
      "metadata": {
        "colab": {
          "base_uri": "https://localhost:8080/"
        },
        "id": "n2NQd2YlELFD",
        "outputId": "01ce3247-07a1-449e-88cb-264706c629b6"
      },
      "execution_count": null,
      "outputs": [
        {
          "output_type": "stream",
          "name": "stdout",
          "text": [
            "\n",
            "📊 설문조사 데이터 기초 통계량\n",
            "             age    country     status        use        sat      recom\n",
            "count  32.000000  32.000000  32.000000  32.000000  32.000000  32.000000\n",
            "mean    1.968750   1.468750   1.500000   2.156250   3.718750   3.093750\n",
            "std     0.782237   0.507007   0.508001   0.677251   0.728869   0.777065\n",
            "min     1.000000   1.000000   1.000000   1.000000   3.000000   1.000000\n",
            "25%     1.000000   1.000000   1.000000   2.000000   3.000000   3.000000\n",
            "50%     2.000000   1.000000   1.500000   2.000000   4.000000   3.000000\n",
            "75%     3.000000   2.000000   2.000000   3.000000   4.000000   4.000000\n",
            "max     3.000000   2.000000   2.000000   3.000000   5.000000   4.000000\n",
            "\n",
            "📌 항목별 빈도 분석\n",
            "\n",
            "[age]\n",
            "age\n",
            "1    10\n",
            "2    13\n",
            "3     9\n",
            "Name: count, dtype: int64\n",
            "\n",
            "[country]\n",
            "country\n",
            "1    17\n",
            "2    15\n",
            "Name: count, dtype: int64\n",
            "\n",
            "[status]\n",
            "status\n",
            "1    16\n",
            "2    16\n",
            "Name: count, dtype: int64\n",
            "\n",
            "[use]\n",
            "use\n",
            "1     5\n",
            "2    17\n",
            "3    10\n",
            "Name: count, dtype: int64\n",
            "\n",
            "[sat]\n",
            "sat\n",
            "3    14\n",
            "4    13\n",
            "5     5\n",
            "Name: count, dtype: int64\n",
            "\n",
            "[image]\n",
            "image\n",
            "기타 (Бусад)                                      1\n",
            "비싸거나 접근하기 어려운 브랜드(Хэт үнэтэй эсвэл ойр биш)     3\n",
            "신뢰감 있는 브랜드(Найдвартай брэнд)                    7\n",
            "특별한 이미지 없음(Тодорхой бодолгүй)                   5\n",
            "편리한 생활 파트너 (Амьдралд хэрэтэй тохиромжтой)      16\n",
            "Name: count, dtype: int64\n",
            "\n",
            "[recom]\n",
            "recom\n",
            "1     1\n",
            "2     5\n",
            "3    16\n",
            "4    10\n",
            "Name: count, dtype: int64\n",
            "\n",
            "❗ 결측치 현황\n",
            "age        0\n",
            "country    0\n",
            "status     0\n",
            "use        0\n",
            "sat        0\n",
            "image      0\n",
            "recom      0\n",
            "dtype: int64\n"
          ]
        }
      ]
    },
    {
      "cell_type": "code",
      "source": [
        "# 신뢰도 분석 대상 문항\n",
        "# 만약 더 많은 관련 문항이 있다면 해당 문항들을 포함\n",
        "reliability_items = df[['use', 'sat', 'recom']]\n",
        "\n",
        "# 크론바흐 알파 함수\n",
        "def cronbach_alpha(df):\n",
        "    k = df.shape[1]\n",
        "    item_var = df.var(axis=0, ddof=1)\n",
        "    total_var = df.sum(axis=1).var(ddof=1)\n",
        "    return (k / (k-1)) * (1 - item_var.sum() / total_var) if k > 1 and total_var > 0 else np.nan\n",
        "\n",
        "# 신뢰도 분석 결과\n",
        "alpha = cronbach_alpha(reliability_items)\n",
        "print(f\"\\n크론바흐 알파 (use, sat, recom): {alpha:.3f}\")\n",
        "\n",
        "# 해석 기준\n",
        "print(\"신뢰도 해석: 0.7↑ 양호, 0.6~0.7 보통, 0.5~0.6 낮음, 0.5↓ 매우 낮음\")"
      ],
      "metadata": {
        "colab": {
          "base_uri": "https://localhost:8080/"
        },
        "id": "H3rGr1xOFgz5",
        "outputId": "a25ca8be-8f9f-4b2a-c0cc-187fdfc387b0"
      },
      "execution_count": null,
      "outputs": [
        {
          "output_type": "stream",
          "name": "stdout",
          "text": [
            "\n",
            "크론바흐 알파 (use, sat, recom): 0.046\n",
            "신뢰도 해석: 0.7↑ 양호, 0.6~0.7 보통, 0.5~0.6 낮음, 0.5↓ 매우 낮음\n"
          ]
        }
      ]
    },
    {
      "cell_type": "code",
      "source": [
        "# 요인분석 대상 데이터 선택\n",
        "# 'age', 'country', 'status'는 인구통계학적 변수이므로 일반적으로 요인 분석에서 제외\n",
        "# 'use', 'sat', 'recom'이 요인 분석 대상이 될 수 있음\n",
        "# ＇image＇는 텍스트이므로 제외\n",
        "fa_data = df[['use', 'sat', 'recom']].copy()\n",
        "\n",
        "# KMO와 Bartlett 검정\n",
        "kmo_all, kmo_per_item = calculate_kmo(fa_data)\n",
        "chi_square_value, p_value = calculate_bartlett_sphericity(fa_data)\n",
        "\n",
        "# KMO 전체 측도 처리\n",
        "if hasattr(kmo_all, \"__iter__\"):\n",
        "    kmo_all_value = np.mean(kmo_all)\n",
        "else:\n",
        "    kmo_all_value = kmo_all\n",
        "\n",
        "print(f\"\\nKMO 전체 측도: {kmo_all_value:.3f}\")\n",
        "if hasattr(kmo_per_item, \"__iter__\"):\n",
        "    print(\"KMO 항목별 값:\")\n",
        "    for item, val in zip(fa_data.columns, kmo_per_item):\n",
        "        print(f\" - {item}: {val:.3f}\")\n",
        "else:\n",
        "    print(\"KMO 항목별 값: 제공되지 않음\")\n",
        "\n",
        "print(f\"\\nBartlett 구형성 검정 카이제곱: {chi_square_value:.3f}, p-value: {p_value:.3f}\")"
      ],
      "metadata": {
        "colab": {
          "base_uri": "https://localhost:8080/"
        },
        "id": "044HL26ZGXE5",
        "outputId": "ceb11a76-7ff2-4570-ace7-4a0298de7626"
      },
      "execution_count": null,
      "outputs": [
        {
          "output_type": "stream",
          "name": "stdout",
          "text": [
            "\n",
            "KMO 전체 측도: 0.537\n",
            "KMO 항목별 값: 제공되지 않음\n",
            "\n",
            "Bartlett 구형성 검정 카이제곱: 3.203, p-value: 0.361\n"
          ]
        }
      ]
    },
    {
      "cell_type": "code",
      "source": [
        "# 자동 해석\n",
        "if kmo_all_value < 0.6:\n",
        "    print(\"⚠️ KMO 지수가 낮아 요인분석 적합하지 않을 수 있음\")\n",
        "if p_value >= 0.05:\n",
        "    print(\"⚠️ Bartlett 검정 p-value가 0.05 이상 → 변수 간 상관이 충분하지 않음\")"
      ],
      "metadata": {
        "colab": {
          "base_uri": "https://localhost:8080/"
        },
        "id": "tKWYP2fZHKyq",
        "outputId": "8b989a4d-8c35-4ba6-f408-e10cfcbe237a"
      },
      "execution_count": null,
      "outputs": [
        {
          "output_type": "stream",
          "name": "stdout",
          "text": [
            "⚠️ KMO 지수가 낮아 요인분석 적합하지 않을 수 있음\n",
            "⚠️ Bartlett 검정 p-value가 0.05 이상 → 변수 간 상관이 충분하지 않음\n"
          ]
        }
      ]
    },
    {
      "cell_type": "code",
      "source": [
        "# 변수 간 상관행렬 시각화\n",
        "plt.figure(figsize=(6,5))\n",
        "sns.heatmap(fa_data.corr(), annot=True, cmap='coolwarm', vmin=-1, vmax=1)\n",
        "plt.title(\"변수 간 상관행렬\")\n",
        "plt.show()"
      ],
      "metadata": {
        "colab": {
          "base_uri": "https://localhost:8080/",
          "height": 740
        },
        "id": "b47sElOxHWSi",
        "outputId": "0bd18ff0-d786-44c3-cca7-10bfd080186e"
      },
      "execution_count": null,
      "outputs": [
        {
          "output_type": "stream",
          "name": "stderr",
          "text": [
            "/usr/local/lib/python3.12/dist-packages/IPython/core/pylabtools.py:151: UserWarning: Glyph 48320 (\\N{HANGUL SYLLABLE BYEON}) missing from font(s) DejaVu Sans.\n",
            "  fig.canvas.print_figure(bytes_io, **kw)\n",
            "/usr/local/lib/python3.12/dist-packages/IPython/core/pylabtools.py:151: UserWarning: Glyph 49688 (\\N{HANGUL SYLLABLE SU}) missing from font(s) DejaVu Sans.\n",
            "  fig.canvas.print_figure(bytes_io, **kw)\n",
            "/usr/local/lib/python3.12/dist-packages/IPython/core/pylabtools.py:151: UserWarning: Glyph 44036 (\\N{HANGUL SYLLABLE GAN}) missing from font(s) DejaVu Sans.\n",
            "  fig.canvas.print_figure(bytes_io, **kw)\n",
            "/usr/local/lib/python3.12/dist-packages/IPython/core/pylabtools.py:151: UserWarning: Glyph 49345 (\\N{HANGUL SYLLABLE SANG}) missing from font(s) DejaVu Sans.\n",
            "  fig.canvas.print_figure(bytes_io, **kw)\n",
            "/usr/local/lib/python3.12/dist-packages/IPython/core/pylabtools.py:151: UserWarning: Glyph 44288 (\\N{HANGUL SYLLABLE GWAN}) missing from font(s) DejaVu Sans.\n",
            "  fig.canvas.print_figure(bytes_io, **kw)\n",
            "/usr/local/lib/python3.12/dist-packages/IPython/core/pylabtools.py:151: UserWarning: Glyph 54665 (\\N{HANGUL SYLLABLE HAENG}) missing from font(s) DejaVu Sans.\n",
            "  fig.canvas.print_figure(bytes_io, **kw)\n",
            "/usr/local/lib/python3.12/dist-packages/IPython/core/pylabtools.py:151: UserWarning: Glyph 47148 (\\N{HANGUL SYLLABLE RYEOL}) missing from font(s) DejaVu Sans.\n",
            "  fig.canvas.print_figure(bytes_io, **kw)\n"
          ]
        },
        {
          "output_type": "display_data",
          "data": {
            "text/plain": [
              "<Figure size 600x500 with 2 Axes>"
            ],
            "image/png": "[encoded data removed]"
          },
          "metadata": {}
        }
      ]
    },
    {
      "cell_type": "code",
      "source": [
        "# 2️⃣ 한글 폰트 설정 (Colab)\n",
        "!apt-get -qq install fonts-nanum\n",
        "import matplotlib.font_manager as fm\n",
        "nanum_path = '/usr/share/fonts/truetype/nanum/NanumGothic.ttf'\n",
        "fm.fontManager.addfont(nanum_path)\n",
        "plt.rc('font', family=fm.FontProperties(fname=nanum_path).get_name())\n",
        "plt.rcParams['axes.unicode_minus'] = False\n",
        "\n",
        "# 3️⃣ 요인분석 대상 데이터 선택\n",
        "fa_data = df[['use', 'sat', 'recom']].copy()\n",
        "\n",
        "# 4️⃣ KMO와 Bartlett 검정\n",
        "kmo_all, kmo_per_item = calculate_kmo(fa_data)\n",
        "chi_square_value, p_value = calculate_bartlett_sphericity(fa_data)\n",
        "\n",
        "# KMO 처리\n",
        "if hasattr(kmo_all, \"__iter__\"):\n",
        "   kmo_all_value = np.mean(kmo_all)\n",
        "else:\n",
        "   kmo_all_value = kmo_all\n",
        "\n",
        "print(f\"\\nKMO 전체 측도: {kmo_all_value:.3f}\")\n",
        "if hasattr(kmo_per_item, \"__iter__\"):\n",
        "   print(\"KMO 항목별 값:\")\n",
        "   for item, val in zip(fa_data.columns, kmo_per_item):\n",
        "       print(f\" - {item}: {val:.3f}\")\n",
        "else:\n",
        "   print(\"KMO 항목별 값: 제공되지 않음\")"
      ],
      "metadata": {
        "colab": {
          "base_uri": "https://localhost:8080/"
        },
        "id": "N_d7bj5jIY1t",
        "outputId": "f8284251-1abc-43a4-ea76-963893c0b7c7"
      },
      "execution_count": null,
      "outputs": [
        {
          "output_type": "stream",
          "name": "stdout",
          "text": [
            "\n",
            "KMO 전체 측도: 0.537\n",
            "KMO 항목별 값: 제공되지 않음\n"
          ]
        }
      ]
    },
    {
      "cell_type": "code",
      "source": [
        "# 6️⃣ 요인 수 결정: 고유값 > 1 기준 + 스크리 플롯\n",
        "fa = FactorAnalyzer(rotation=None)\n",
        "fa.fit(fa_data)\n",
        "ev, v = fa.get_eigenvalues()\n",
        "\n",
        "plt.figure(figsize=(6,4))\n",
        "plt.plot(range(1, len(ev)+1), ev, marker='o')\n",
        "plt.title(\"Scree Plot\")\n",
        "plt.xlabel(\"요인 번호\")\n",
        "plt.ylabel(\"고유값\")\n",
        "plt.xticks(range(1, len(ev)+1))\n",
        "plt.axhline(y=1, color='r', linestyle='--')  # Kaiser 기준\n",
        "plt.show()\n",
        "\n",
        "# 고유값 > 1 기준 요인 수 추천\n",
        "num_factors = sum(ev > 1)\n",
        "print(f\"추천 요인 수 (고유값 > 1 기준): {num_factors}\")"
      ],
      "metadata": {
        "colab": {
          "base_uri": "https://localhost:8080/",
          "height": 481
        },
        "id": "wxfp_W9DJCU2",
        "outputId": "e0e5c8d1-a310-4c5e-8c6f-434b59b617f0"
      },
      "execution_count": null,
      "outputs": [
        {
          "output_type": "stream",
          "name": "stderr",
          "text": [
            "/usr/local/lib/python3.12/dist-packages/sklearn/utils/deprecation.py:151: FutureWarning: 'force_all_finite' was renamed to 'ensure_all_finite' in 1.6 and will be removed in 1.8.\n",
            "  warnings.warn(\n"
          ]
        },
        {
          "output_type": "display_data",
          "data": {
            "text/plain": [
              "<Figure size 600x400 with 1 Axes>"
            ],
            "image/png": "[encoded data removed]"
          },
          "metadata": {}
        },
        {
          "output_type": "stream",
          "name": "stdout",
          "text": [
            "추천 요인 수 (고유값 > 1 기준): 1\n"
          ]
        }
      ]
    },
    {
      "cell_type": "code",
      "source": [
        "# 7️⃣ Varimax 회전 적용 EFA\n",
        "fa_rotated = FactorAnalyzer(n_factors=num_factors, rotation='varimax')\n",
        "fa_rotated.fit(fa_data)\n",
        "\n",
        "# 요인 적재량 출력\n",
        "loadings = pd.DataFrame(fa_rotated.loadings_, index=fa_data.columns,\n",
        "                       columns=[f'Factor{i+1}' for i in range(num_factors)])\n",
        "print(\"\\nVarimax 회전 후 요인 적재량 (Factor Loadings):\")\n",
        "print(loadings)\n",
        "\n",
        "# 설명 분산\n",
        "ev_rot, v_rot = fa_rotated.get_eigenvalues()\n",
        "eigenvalues = pd.DataFrame({'Eigenvalue': ev_rot, 'Variance Explained': v_rot})"
      ],
      "metadata": {
        "colab": {
          "base_uri": "https://localhost:8080/"
        },
        "id": "abLtC5tjJcaU",
        "outputId": "d038bd16-73c0-425a-da9b-27cb41ff43f6"
      },
      "execution_count": null,
      "outputs": [
        {
          "output_type": "stream",
          "name": "stdout",
          "text": [
            "\n",
            "Varimax 회전 후 요인 적재량 (Factor Loadings):\n",
            "        Factor1\n",
            "use   -0.845506\n",
            "sat    0.200471\n",
            "recom -0.328496\n"
          ]
        },
        {
          "output_type": "stream",
          "name": "stderr",
          "text": [
            "/usr/local/lib/python3.12/dist-packages/sklearn/utils/deprecation.py:151: FutureWarning: 'force_all_finite' was renamed to 'ensure_all_finite' in 1.6 and will be removed in 1.8.\n",
            "  warnings.warn(\n",
            "/usr/local/lib/python3.12/dist-packages/factor_analyzer/factor_analyzer.py:663: UserWarning: No rotation will be performed when the number of factors equals 1.\n",
            "  warnings.warn(\n"
          ]
        }
      ]
    },
    {
      "cell_type": "code",
      "source": [
        "# 8️⃣ 요인점수 계산\n",
        "factor_scores = fa_rotated.transform(fa_data)\n",
        "factor_scores_df = pd.DataFrame(factor_scores,\n",
        "                               columns=[f'Factor{i+1}' for i in range(factor_scores.shape[1])])"
      ],
      "metadata": {
        "colab": {
          "base_uri": "https://localhost:8080/"
        },
        "id": "I-cU5niEKDQf",
        "outputId": "389ec499-6596-42f5-e28c-fe801e9c0c1c"
      },
      "execution_count": null,
      "outputs": [
        {
          "output_type": "stream",
          "name": "stderr",
          "text": [
            "/usr/local/lib/python3.12/dist-packages/sklearn/utils/deprecation.py:151: FutureWarning: 'force_all_finite' was renamed to 'ensure_all_finite' in 1.6 and will be removed in 1.8.\n",
            "  warnings.warn(\n"
          ]
        }
      ]
    },
    {
      "cell_type": "code",
      "source": [
        "# 9️⃣ 회귀분석 준비 (종속변수 'recom' 예시)\n",
        "regression_data = pd.concat([df['recom'], factor_scores_df], axis=1)\n",
        "X = regression_data.drop(columns='recom')\n",
        "y = regression_data['recom']\n",
        "\n",
        "# 상수항 추가\n",
        "X = sm.add_constant(X)\n",
        "\n",
        "# 회귀모형 적합\n",
        "results = sm.OLS(y, X).fit()\n",
        "print(\"\\n회귀분석 결과 요약:\")\n",
        "print(results.summary())"
      ],
      "metadata": {
        "colab": {
          "base_uri": "https://localhost:8080/"
        },
        "id": "dSw79_WSKWMM",
        "outputId": "da99dc49-dd1d-4f41-9081-f2e4f3c519d0"
      },
      "execution_count": null,
      "outputs": [
        {
          "output_type": "stream",
          "name": "stdout",
          "text": [
            "\n",
            "회귀분석 결과 요약:\n",
            "                            OLS Regression Results                            \n",
            "==============================================================================\n",
            "Dep. Variable:                  recom   R-squared:                       0.148\n",
            "Model:                            OLS   Adj. R-squared:                  0.120\n",
            "Method:                 Least Squares   F-statistic:                     5.225\n",
            "Date:                Sun, 28 Sep 2025   Prob (F-statistic):             0.0295\n",
            "Time:                        11:51:20   Log-Likelihood:                -34.258\n",
            "No. Observations:                  32   AIC:                             72.52\n",
            "Df Residuals:                      30   BIC:                             75.45\n",
            "Df Model:                           1                                         \n",
            "Covariance Type:            nonrobust                                         \n",
            "==============================================================================\n",
            "                 coef    std err          t      P>|t|      [0.025      0.975]\n",
            "------------------------------------------------------------------------------\n",
            "const          3.0938      0.129     24.007      0.000       2.831       3.357\n",
            "Factor1       -0.3453      0.151     -2.286      0.030      -0.654      -0.037\n",
            "==============================================================================\n",
            "Omnibus:                        0.627   Durbin-Watson:                   2.016\n",
            "Prob(Omnibus):                  0.731   Jarque-Bera (JB):                0.571\n",
            "Skew:                          -0.297   Prob(JB):                        0.752\n",
            "Kurtosis:                       2.725   Cond. No.                         1.17\n",
            "==============================================================================\n",
            "\n",
            "Notes:\n",
            "[1] Standard Errors assume that the covariance matrix of the errors is correctly specified.\n"
          ]
        }
      ]
    },
    {
      "cell_type": "code",
      "source": [
        "# 10️⃣ 회귀선 시각화 (단일 요인일 때만)\n",
        "if num_factors == 1:\n",
        "   plt.figure(figsize=(6,4))\n",
        "   sns.regplot(x='Factor1', y='recom', data=regression_data)\n",
        "   plt.title(\"Factor1 → recom 회귀선\")\n",
        "   plt.xlabel(\"Factor1 점수\")\n",
        "   plt.ylabel(\"recom\")\n",
        "   plt.show()"
      ],
      "metadata": {
        "colab": {
          "base_uri": "https://localhost:8080/",
          "height": 407
        },
        "id": "dmj4VlokLBWO",
        "outputId": "10d16bd0-06b1-41c0-eee8-bb1bbf55845b"
      },
      "execution_count": null,
      "outputs": [
        {
          "output_type": "display_data",
          "data": {
            "text/plain": [
              "<Figure size 600x400 with 1 Axes>"
            ],
            "image/png": "[encoded data removed]"
          },
          "metadata": {}
        }
      ]
    },
    {
      "cell_type": "code",
      "source": [
        "# 11️⃣ 잔차 정규성 검정: Q-Q plot\n",
        "plt.figure(figsize=(6, 6))\n",
        "stats.probplot(results.resid, dist=\"norm\", plot=plt)\n",
        "plt.title('Normal Q-Q plot of residuals')\n",
        "plt.show()"
      ],
      "metadata": {
        "colab": {
          "base_uri": "https://localhost:8080/",
          "height": 561
        },
        "id": "FSu9OcLkLjx5",
        "outputId": "05fc5c32-73a5-4a63-f16d-a61f4648a313"
      },
      "execution_count": null,
      "outputs": [
        {
          "output_type": "display_data",
          "data": {
            "text/plain": [
              "<Figure size 600x600 with 1 Axes>"
            ],
            "image/png": "[encoded data removed]"
          },
          "metadata": {}
        }
      ]
    }
  ]
}